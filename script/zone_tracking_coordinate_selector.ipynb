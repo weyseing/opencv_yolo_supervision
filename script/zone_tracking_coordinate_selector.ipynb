{
  "cells": [
    {
      "cell_type": "markdown",
      "source": [
        "## Import"
      ],
      "metadata": {
        "nteract": {
          "transient": {
            "deleting": false
          }
        }
      }
    },
    {
      "cell_type": "code",
      "source": [
        "import os\n",
        "import sys\n",
        "import cv2\n",
        "import argparse\n",
        "import numpy as np\n",
        "import supervision as sv\n",
        "from pathlib import Path\n",
        "from ultralytics import YOLO\n",
        "from dotenv import load_dotenv"
      ],
      "outputs": [
        {
          "output_type": "stream",
          "name": "stderr",
          "text": "TqdmWarning: IProgress not found. Please update jupyter and ipywidgets. See https://ipywidgets.readthedocs.io/en/stable/user_install.html\n"
        }
      ],
      "execution_count": 1,
      "metadata": {
        "gather": {
          "logged": 1759566075588
        }
      }
    },
    {
      "cell_type": "markdown",
      "source": [
        "## Path"
      ],
      "metadata": {
        "nteract": {
          "transient": {
            "deleting": false
          }
        }
      }
    },
    {
      "cell_type": "code",
      "source": [
        "# path\n",
        "current_path = Path(os.getcwd())\n",
        "sys.path.insert(0, current_path)"
      ],
      "outputs": [],
      "execution_count": 2,
      "metadata": {
        "gather": {
          "logged": 1759566076645
        }
      }
    },
    {
      "cell_type": "markdown",
      "source": [
        "## Zone Coordinate Selector"
      ],
      "metadata": {
        "nteract": {
          "transient": {
            "deleting": false
          }
        }
      }
    },
    {
      "cell_type": "code",
      "source": [
        "# Replace with the path to your video file\n",
        "video_path = f\"{current_path.parent}/videos/finance_20251001_1000_1001.mp4\"\n",
        "\n",
        "cap = cv2.VideoCapture(video_path)\n",
        "\n",
        "if not cap.isOpened():\n",
        "    print(\"Error: Could not open video.\")\n",
        "    exit()\n",
        "\n",
        "# Read the first frame\n",
        "ret, frame = cap.read()\n",
        "\n",
        "if not ret:\n",
        "    print(\"Error: Could not read frame.\")\n",
        "    cap.release()\n",
        "    exit()\n",
        "\n",
        "# Function to get coordinates on mouse click\n",
        "coordinates = []\n",
        "def get_coords(event, x, y, flags, param):\n",
        "    if event == cv2.EVENT_LBUTTONDOWN:\n",
        "        coordinates.append([x, y])\n",
        "        print(f\"Added coordinate: ({x}, {y})\")\n",
        "\n",
        "# Display the frame and let the user click to get coordinates\n",
        "cv2.imshow(\"Select Area\", frame)\n",
        "cv2.setMouseCallback(\"Select Area\", get_coords)\n",
        "\n",
        "print(\"Click on the image to select the vertices of your polygon.\")\n",
        "print(\"Press any key to close the window and see the coordinates.\")\n",
        "cv2.waitKey(0)\n",
        "cv2.destroyAllWindows()\n",
        "\n",
        "cap.release()\n",
        "\n",
        "print(\"\\n--- Your polygon coordinates ---\")\n",
        "print(\"np.array([\")\n",
        "for coord in coordinates:\n",
        "    print(f\"    [{coord[0]}, {coord[1]}],\")\n",
        "print(\"])\")\n",
        "\n",
        "print(\"\\nCopy and paste these coordinates into your main script.\")"
      ],
      "outputs": [],
      "execution_count": 3,
      "metadata": {
        "gather": {
          "logged": 1759566079101
        }
      }
    }
  ],
  "metadata": {
    "kernelspec": {
      "name": "computer_vision",
      "language": "python",
      "display_name": "Python (computer_vision)"
    },
    "language_info": {
      "name": "python",
      "version": "3.11.13",
      "mimetype": "text/x-python",
      "codemirror_mode": {
        "name": "ipython",
        "version": 3
      },
      "pygments_lexer": "ipython3",
      "nbconvert_exporter": "python",
      "file_extension": ".py"
    },
    "microsoft": {
      "ms_spell_check": {
        "ms_spell_check_language": "en"
      }
    },
    "kernel_info": {
      "name": "computer_vision"
    },
    "nteract": {
      "version": "nteract-front-end@1.0.0"
    }
  },
  "nbformat": 4,
  "nbformat_minor": 2
}